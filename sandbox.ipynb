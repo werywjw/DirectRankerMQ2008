{
 "cells": [
  {
   "cell_type": "code",
   "execution_count": 1,
   "metadata": {},
   "outputs": [
    {
     "name": "stdout",
     "output_type": "stream",
     "text": [
      "WARNING:tensorflow:From /Users/wery/Library/Python/3.9/lib/python/site-packages/tensorflow/python/compat/v2_compat.py:107: disable_resource_variables (from tensorflow.python.ops.variable_scope) is deprecated and will be removed in a future version.\n",
      "Instructions for updating:\n",
      "non-resource variables are not supported in the long term\n"
     ]
    }
   ],
   "source": [
    "from __future__ import print_function\n",
    "\n",
    "import sys\n",
    "import numpy as np\n",
    "from sklearn.preprocessing import QuantileTransformer\n",
    "from sklearn.model_selection import train_test_split\n",
    "\n",
    "sys.path.append('..')\n",
    "import tensorflow as tf\n",
    "#from supplementary_code_direct_ranker.DirectRanker import directRanker\n",
    "#from supplementary_code_direct_ranker.helpers import readData, nDCGScorer_cls, MAP_cls\n",
    "import DirectRanker as drr\n",
    "import helpers as hlps\n",
    "\n",
    "# import warnings\n",
    "# warnings.filterwarnings(\"ignore\")"
   ]
  },
  {
   "cell_type": "markdown",
   "metadata": {},
   "source": [
    "# Read data"
   ]
  },
  {
   "cell_type": "code",
   "execution_count": 2,
   "metadata": {},
   "outputs": [],
   "source": [
    "# x_test, y_test, q_test = hlps.readData(data_path=\"/Users/wery/Desktop/BAJiawenWang/dataset/MQ2007/Fold1/test.txt\", \n",
    "#                                        binary=True, at=10, number_features=46, bin_cutoff=1.5, cut_zeros=True)\n",
    "# x_train, y_train, q_train = hlps.readData(data_path=\"/Users/wery/Desktop/BAJiawenWang/dataset/MQ2007/Fold1/train.txt\", \n",
    "#                                           binary=True, at=10, number_features=46, bin_cutoff=1.5, cut_zeros=True)\n",
    "\n",
    "x_test, y_test, q_test = hlps.readData(data_path=\"/Users/wery/Desktop/BAJiawenWang/dataset/MQ2008/Fold1/test.txt\", \n",
    "                                       binary=True, at=10, number_features=46, bin_cutoff=1.5, cut_zeros=True)\n",
    "x_train, y_train, q_train = hlps.readData(data_path=\"/Users/wery/Desktop/BAJiawenWang/dataset/MQ2008/Fold1/train.txt\", \n",
    "                                          binary=True, at=10, number_features=46, bin_cutoff=1.5, cut_zeros=True)\n",
    "\n",
    "# x_test, y_test, q_test = hlps.readData(data_path=\"/Users/wery/Desktop/MSLR-WEB10K/Fold1/test.txt\", \n",
    "#                                        binary=True, at=10, number_features=136, bin_cutoff=1.5, cut_zeros=True)\n",
    "# x_train, y_train, q_train = hlps.readData(data_path=\"/Users/wery/Desktop/MSLR-WEB10K/Fold1/train.txt\", \n",
    "#                                           binary=True, at=10, number_features=136, bin_cutoff=1.5, cut_zeros=True)"
   ]
  },
  {
   "cell_type": "markdown",
   "metadata": {},
   "source": [
    "# Define Ranker"
   ]
  },
  {
   "cell_type": "code",
   "execution_count": 3,
   "metadata": {},
   "outputs": [],
   "source": [
    "def lambda_cost(nn, y0):\n",
    "    return tf.reduce_mean(tf.log(1+tf.exp(nn))-nn)\n",
    "\n",
    "\n",
    "# Load directRanker, train, and test\n",
    "dr = drr.directRanker(\n",
    "    feature_activation=tf.nn.tanh,\n",
    "    ranking_activation=tf.nn.tanh,\n",
    "    # max_steps=10000,\n",
    "    # For debugging\n",
    "    #cost=lambda_cost,\n",
    "    max_steps=10000,\n",
    "    print_step=500,\n",
    "    start_batch_size=3,\n",
    "    end_batch_size=5,\n",
    "    start_qids=20,\n",
    "    end_qids=100,\n",
    "    feature_bias=True,\n",
    "    hidden_layers=[100, 50, 5]\n",
    ")"
   ]
  },
  {
   "cell_type": "markdown",
   "metadata": {},
   "source": [
    "# Fit"
   ]
  },
  {
   "cell_type": "code",
   "execution_count": 4,
   "metadata": {},
   "outputs": [
    {
     "name": "stderr",
     "output_type": "stream",
     "text": [
      "/Users/wery/Desktop/DirectRankerMQ2008/DirectRanker.py:207: UserWarning: `tf.layers.dropout` is deprecated and will be removed in a future version. Please use `tf.keras.layers.Dropout` instead.\n",
      "  in0 = tf.layers.dropout(inputs=self.x0,\n",
      "/Users/wery/Desktop/DirectRankerMQ2008/DirectRanker.py:212: UserWarning: `tf.layers.dropout` is deprecated and will be removed in a future version. Please use `tf.keras.layers.Dropout` instead.\n",
      "  in1 = tf.layers.dropout(inputs=self.x1,\n",
      "/Users/wery/Desktop/DirectRankerMQ2008/DirectRanker.py:218: UserWarning: `tf.layers.dense` is deprecated and will be removed in a future version. Please use `tf.keras.layers.Dense` instead.\n",
      "  nn0 = tf.layers.dense(\n",
      "/Users/wery/Desktop/DirectRankerMQ2008/DirectRanker.py:230: UserWarning: `tf.layers.dense` is deprecated and will be removed in a future version. Please use `tf.keras.layers.Dense` instead.\n",
      "  nn1 = tf.layers.dense(\n",
      "/Users/wery/Desktop/DirectRankerMQ2008/DirectRanker.py:242: UserWarning: `tf.layers.dropout` is deprecated and will be removed in a future version. Please use `tf.keras.layers.Dropout` instead.\n",
      "  nn0 = tf.layers.dropout(inputs=nn0,\n",
      "/Users/wery/Desktop/DirectRankerMQ2008/DirectRanker.py:246: UserWarning: `tf.layers.dropout` is deprecated and will be removed in a future version. Please use `tf.keras.layers.Dropout` instead.\n",
      "  nn1 = tf.layers.dropout(inputs=nn1,\n",
      "/Users/wery/Desktop/DirectRankerMQ2008/DirectRanker.py:252: UserWarning: `tf.layers.dense` is deprecated and will be removed in a future version. Please use `tf.keras.layers.Dense` instead.\n",
      "  nn0 = tf.layers.dense(\n",
      "/Users/wery/Desktop/DirectRankerMQ2008/DirectRanker.py:261: UserWarning: `tf.layers.dense` is deprecated and will be removed in a future version. Please use `tf.keras.layers.Dense` instead.\n",
      "  nn1 = tf.layers.dense(\n",
      "/Users/wery/Desktop/DirectRankerMQ2008/DirectRanker.py:273: UserWarning: `tf.layers.dropout` is deprecated and will be removed in a future version. Please use `tf.keras.layers.Dropout` instead.\n",
      "  nn0 = tf.layers.dropout(inputs=nn0,\n",
      "/Users/wery/Desktop/DirectRankerMQ2008/DirectRanker.py:277: UserWarning: `tf.layers.dropout` is deprecated and will be removed in a future version. Please use `tf.keras.layers.Dropout` instead.\n",
      "  nn1 = tf.layers.dropout(inputs=nn1,\n",
      "/Users/wery/Desktop/DirectRankerMQ2008/DirectRanker.py:285: UserWarning: `tf.layers.dense` is deprecated and will be removed in a future version. Please use `tf.keras.layers.Dense` instead.\n",
      "  self.nn = tf.layers.dense(\n",
      "/Users/wery/Desktop/DirectRankerMQ2008/DirectRanker.py:295: UserWarning: `tf.layers.dense` is deprecated and will be removed in a future version. Please use `tf.keras.layers.Dense` instead.\n",
      "  self.nn_cls = tf.layers.dense(\n",
      "2023-01-27 00:17:46.488142: I tensorflow/compiler/mlir/mlir_graph_optimization_pass.cc:357] MLIR V1 optimization pass is not enabled\n",
      "2023-01-27 00:17:46.493694: W tensorflow/tsl/platform/profile_utils/cpu_utils.cc:128] Failed to get CPU frequency: 0 Hz\n"
     ]
    },
    {
     "name": "stdout",
     "output_type": "stream",
     "text": [
      "step: 0, value: 2.4063515663146973, samples: 3, queries: 20\n",
      "step: 500, value: 0.4328242540359497, samples: 3, queries: 21\n",
      "step: 1000, value: 0.4138910174369812, samples: 3, queries: 23\n",
      "step: 1500, value: 0.23298810422420502, samples: 3, queries: 25\n",
      "step: 2000, value: 0.0610007643699646, samples: 3, queries: 27\n",
      "step: 2500, value: 0.0688132792711258, samples: 3, queries: 29\n",
      "step: 3000, value: 0.09398200362920761, samples: 3, queries: 32\n",
      "step: 3500, value: 0.13447435200214386, samples: 3, queries: 35\n",
      "step: 4000, value: 0.04070259630680084, samples: 3, queries: 38\n",
      "step: 4500, value: 0.018199993297457695, samples: 3, queries: 41\n",
      "step: 5000, value: 0.01875874400138855, samples: 3, queries: 44\n",
      "step: 5500, value: 0.004975037649273872, samples: 3, queries: 48\n",
      "step: 6000, value: 0.01009082980453968, samples: 4, queries: 52\n",
      "step: 6500, value: 0.00359758036211133, samples: 4, queries: 56\n",
      "step: 7000, value: 0.0065209283493459225, samples: 4, queries: 61\n",
      "step: 7500, value: 0.010071066208183765, samples: 4, queries: 66\n",
      "step: 8000, value: 0.005989565514028072, samples: 4, queries: 72\n",
      "step: 8500, value: 0.00010345066402805969, samples: 4, queries: 78\n",
      "step: 9000, value: 0.007726156152784824, samples: 4, queries: 85\n",
      "step: 9500, value: 0.0005931735504418612, samples: 4, queries: 92\n"
     ]
    }
   ],
   "source": [
    "dr.fit(x_train, y_train, ranking=True)"
   ]
  },
  {
   "cell_type": "markdown",
   "metadata": {},
   "source": [
    "# Evaluate"
   ]
  },
  {
   "cell_type": "code",
   "execution_count": 5,
   "metadata": {},
   "outputs": [
    {
     "name": "stdout",
     "output_type": "stream",
     "text": [
      "nDCG@10: 0.6033 +- 0.2769\n",
      "MAP: 0.5006 +- 0.3039\n"
     ]
    },
    {
     "data": {
      "text/plain": [
       "0.5005735269434963"
      ]
     },
     "execution_count": 5,
     "metadata": {},
     "output_type": "execute_result"
    }
   ],
   "source": [
    "hlps.nDCGScorer_cls(dr, x_test, y_test, at=10)\n",
    "hlps.MAP_cls(dr, x_test, y_test)"
   ]
  },
  {
   "cell_type": "code",
   "execution_count": null,
   "metadata": {},
   "outputs": [],
   "source": []
  }
 ],
 "metadata": {
  "kernelspec": {
   "display_name": "Python 3",
   "language": "python",
   "name": "python3"
  },
  "language_info": {
   "codemirror_mode": {
    "name": "ipython",
    "version": 3
   },
   "file_extension": ".py",
   "mimetype": "text/x-python",
   "name": "python",
   "nbconvert_exporter": "python",
   "pygments_lexer": "ipython3",
   "version": "3.9.6"
  },
  "vscode": {
   "interpreter": {
    "hash": "31f2aee4e71d21fbe5cf8b01ff0e069b9275f58929596ceb00d14d90e3e16cd6"
   }
  }
 },
 "nbformat": 4,
 "nbformat_minor": 2
}
