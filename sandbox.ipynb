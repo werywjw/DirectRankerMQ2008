{
 "cells": [
  {
   "cell_type": "code",
   "execution_count": 2,
   "metadata": {},
   "outputs": [
    {
     "name": "stdout",
     "output_type": "stream",
     "text": [
      "WARNING:tensorflow:From /Users/wery/Library/Python/3.9/lib/python/site-packages/tensorflow/python/compat/v2_compat.py:107: disable_resource_variables (from tensorflow.python.ops.variable_scope) is deprecated and will be removed in a future version.\n",
      "Instructions for updating:\n",
      "non-resource variables are not supported in the long term\n"
     ]
    }
   ],
   "source": [
    "from __future__ import print_function\n",
    "\n",
    "import sys\n",
    "import numpy as np\n",
    "from sklearn.preprocessing import QuantileTransformer\n",
    "from sklearn.model_selection import train_test_split\n",
    "\n",
    "sys.path.append('..')\n",
    "import tensorflow as tf\n",
    "#from supplementary_code_direct_ranker.DirectRanker import directRanker\n",
    "#from supplementary_code_direct_ranker.helpers import readData, nDCGScorer_cls, MAP_cls\n",
    "import DirectRanker as drr\n",
    "import helpers as hlps"
   ]
  },
  {
   "cell_type": "markdown",
   "metadata": {},
   "source": [
    "# Read data"
   ]
  },
  {
   "cell_type": "code",
   "execution_count": 11,
   "metadata": {},
   "outputs": [],
   "source": [
    "# x_test, y_test, q_test = hlps.readData(data_path=\"/Users/wery/Desktop/BAJiawenWang/dataset/MQ2007/Fold1/test.txt\", \n",
    "#                                        binary=True, at=10, number_features=46, bin_cutoff=1.5, cut_zeros=True)\n",
    "# x_train, y_train, q_train = hlps.readData(data_path=\"/Users/wery/Desktop/BAJiawenWang/dataset/MQ2007/Fold1/train.txt\", \n",
    "#                                           binary=True, at=10, number_features=46, bin_cutoff=1.5, cut_zeros=True)\n",
    "\n",
    "# x_test, y_test, q_test = hlps.readData(data_path=\"/Users/wery/Desktop/BAJiawenWang/dataset/MQ2008/Fold1/test.txt\", \n",
    "#                                        binary=True, at=10, number_features=46, bin_cutoff=1.5, cut_zeros=True)\n",
    "# x_train, y_train, q_train = hlps.readData(data_path=\"/Users/wery/Desktop/BAJiawenWang/dataset/MQ2008/Fold1/train.txt\", \n",
    "#                                           binary=True, at=10, number_features=46, bin_cutoff=1.5, cut_zeros=True)\n",
    "\n",
    "x_test, y_test, q_test = hlps.readData(data_path=\"/Users/wery/Desktop/BAJiawenWang/dataset/OHSUMED/Feature-min/Fold1/testset.txt\", \n",
    "                                       binary=True, at=10, number_features=45, bin_cutoff=1.5, cut_zeros=True)\n",
    "x_train, y_train, q_train = hlps.readData(data_path=\"/Users/wery/Desktop/BAJiawenWang/dataset/OHSUMED/Feature-min/Fold1/trainingset.txt\", \n",
    "                                          binary=True, at=10, number_features=45, bin_cutoff=1.5, cut_zeros=True)\n",
    "\n",
    "# x_test, y_test, q_test = hlps.readData(data_path=\"/Users/wery/Desktop/BAJiawenWang/dataset/TREC/TD2003/Fold1/testset.txt\", \n",
    "#                                        binary=False, at=10, number_features=44, bin_cutoff=1.5, cut_zeros=True)\n",
    "# x_train, y_train, q_train = hlps.readData(data_path=\"/Users/wery/Desktop/BAJiawenWang/dataset/TREC/TD2003/Fold1/trainingset.txt\", \n",
    "#                                           binary=False, at=10, number_features=44, bin_cutoff=1.5, cut_zeros=True)\n",
    "\n",
    "# x_test, y_test, q_test = hlps.readData(data_path=\"/Users/wery/Desktop/BAJiawenWang/dataset/TREC/TD2004/Fold1/testset.txt\", \n",
    "#                                        binary=False, at=5, number_features=44, bin_cutoff=1.5, cut_zeros=True)\n",
    "# x_train, y_train, q_train = hlps.readData(data_path=\"/Users/wery/Desktop/BAJiawenWang/dataset/TREC/TD2004/Fold1/trainingset.txt\", \n",
    "#                                           binary=False, at=5, number_features=44, bin_cutoff=1.5, cut_zeros=True)\n",
    "\n",
    "# x_test, y_test, q_test = hlps.readData(data_path=\"/Users/wery/Desktop/BAJiawenWang/dataset/MSLR-WEB10K/Fold1/test.txt\", \n",
    "#                                        binary=True, at=10, number_features=136, bin_cutoff=1.5, cut_zeros=True)\n",
    "# x_train, y_train, q_train = hlps.readData(data_path=\"/Users/wery/Desktop/BAJiawenWang/dataset/MSLR-WEB10K/Fold1/train.txt\", \n",
    "#                                           binary=True, at=10, number_features=136, bin_cutoff=1.5, cut_zeros=True)\n",
    "\n",
    "#only 2 min readData!!!"
   ]
  },
  {
   "cell_type": "code",
   "execution_count": 4,
   "metadata": {},
   "outputs": [
    {
     "data": {
      "text/plain": [
       "array([0, 1, 0, 0, 0, 1, 0, 0, 1, 1, 1, 0, 0, 0, 0, 0, 1, 0, 1, 1, 1, 0,\n",
       "       0, 0, 0, 0, 0, 0, 0, 0, 0, 0, 0, 0, 0, 0, 0, 0, 0, 0, 0, 0, 0, 0,\n",
       "       0, 0, 0, 0, 0, 0, 1, 0, 0, 0, 0, 0, 1, 1, 0, 0, 0, 0, 0, 0, 0, 0,\n",
       "       0, 0, 0, 0, 0, 0, 0, 0, 0, 0, 0, 0, 1, 1, 1, 0, 0, 0, 0, 1, 0, 0,\n",
       "       0, 0, 0, 0, 1, 0, 0, 1, 0, 0, 0, 0, 0, 0, 0, 0, 0, 0, 0, 0, 0, 0,\n",
       "       0, 1, 0, 0, 0, 0, 0, 0, 1, 0, 0, 1, 0, 0, 0, 0, 0, 0, 1, 0, 1, 0,\n",
       "       0, 0, 0, 0, 1, 0])"
      ]
     },
     "execution_count": 4,
     "metadata": {},
     "output_type": "execute_result"
    }
   ],
   "source": [
    "#len(x_train) #60??? Why not 63 OHSUMED???\n",
    "\n",
    "#len(q_train) #shape (9219, ) correct # test:3383\n",
    "#len(x_test) #20??? Why not 22 OHSUMED??? already different at 2nd qid86\n",
    "y_train[0].ravel()"
   ]
  },
  {
   "cell_type": "code",
   "execution_count": 5,
   "metadata": {},
   "outputs": [
    {
     "data": {
      "text/plain": [
       "array([[ 0.84744973,  0.91581777,  0.55976752, ..., -0.16976018,\n",
       "        -0.19343922, -0.15279566],\n",
       "       [ 0.43178751,  0.44776221,  0.6712238 , ..., -0.15749394,\n",
       "        -0.17838753, -0.12414577],\n",
       "       [ 0.2177922 ,  0.22247301,  0.34741558, ..., -0.18609576,\n",
       "        -0.20246483, -0.15652423],\n",
       "       ...,\n",
       "       [-0.01171172, -0.01171172, -0.02385716, ..., -0.55820607,\n",
       "        -0.55181484, -0.57256782],\n",
       "       [ 0.2177922 ,  0.22247301, -0.06743775, ..., -0.58739211,\n",
       "        -0.55170028, -0.58452112],\n",
       "       [-1.73311253, -1.73311253, -1.73311253, ..., -0.58739211,\n",
       "        -0.55181484, -0.58452112]])"
      ]
     },
     "execution_count": 5,
     "metadata": {},
     "output_type": "execute_result"
    }
   ],
   "source": [
    "x_train[0]"
   ]
  },
  {
   "attachments": {},
   "cell_type": "markdown",
   "metadata": {},
   "source": [
    "00: 138, correct, qid1  \n",
    "01: 153 += 291, correct, qid2  \n",
    "02: 235 += 526, correct, qid3  \n",
    "03: 111 += 637, correct, qid4  \n",
    "04: 56 += 693, correct, qid5  \n",
    "05: 153 += 846, correct, qid6  \n",
    "06: 54 += 900, correct, qid7  \n",
    "07: 140 += 1040 ??? 942, qid8 all0  \n",
    "08: 35 += 1075 ??? 1082 = 942+140, qid9   \n",
    "09: 96 += 1171 ??? 1117 = 1082+35, qid10  \n",
    "10: 84 += 1255 ??? 1213 = 1117+96, qid11  \n",
    "11: 81 += 1336 ??? 1297 = 1213+84, qid12  \n",
    "12: 133 += 1469 ??? 1378 = 1297+81, qid13  \n",
    "13: 134 += 1603 ??? 1511 = 1378+133, qid14  \n",
    "14: 215 += 1818 ??? 1645 = 1511+134, qid15  \n",
    "15: 112 += 1930 ??? 1860 = 1645+215, qid16  \n",
    "16: 155 += 2085 ??? 1972 = 1860+112, qid17  \n",
    "17: 134 += 2219 ??? 2127 = 1972+155, qid18   \n",
    "18: 134 += 2353 ??? 2261 = 2127+134, qid19  \n",
    "19: 175 += 2528 ??? 2395 = 2261+134, qid20  \n",
    "20: 205 += 2733 ??? 2570 = 2395+175, qid21  \n",
    "21: 63 += 2796 ??? 2775 = 2570+205, qid22  \n",
    "22: 41 += 2837 ??? 2838 = 2775+63, qid23  \n",
    "23: 54 += 2891 ??? 2879 = 2838+41, qid24  \n",
    "24: 83 += 2974 ??? 2933 = 2879+54, qid25  \n",
    "25: 268 += 3242 ??? 3016 = 2933+83, qid26  \n",
    "26: 174 += 3416 ??? 3284 = 3016+268, qid27  \n",
    "27: 150 += 3566 ??? 3391 = 3284+174 ??? 3391, qid28  \n",
    "28: 137 += 3703 ??? 3565, qid29  \n",
    "29: 132 += 3835 ??? 3715, qid30  \n",
    "30: 243 += 4078 ??? 3852, qid31  \n",
    "31: 193 += 4271 ??? 3984, qid32  \n",
    "32: 320 += 4591 ??? 4227, qid33  \n",
    "33: 133 += 4724 ??? 4420, qid34  \n",
    "34: 147 += 4871 ??? 4740, qid35  \n",
    "35: 81 += 4952 ??? 4873, qid36  \n",
    "36: 146 += 5098 ??? 5020, qid37  \n",
    "37: 135 += 5233 ??? 5101, qid38  \n",
    "38: 184 += 5417 ??? 5247, qid39  \n",
    "39: 80 += 5497 ??? 5382, qid40  \n",
    "40: 180 += 5677 ??? 5566, qid41  \n",
    "41: 131 += 5808 ??? 5646, qid42  \n",
    "42: 205 += 6013 ??? 5826, qid43  \n",
    "43: 145 += 6158 ??? 5957, qid44  \n",
    "44: 172 += 6330 ??? 6162, qid45  \n",
    "45: 262 += 6592 ??? 6307, qid46  \n",
    "46: 167 += 6759 ??? 6479, qid47  \n",
    "47: 159 += 6918 ??? 6741, qid48  \n",
    "48: 129 += 7047 ??? 6850, qid49  \n",
    "49: 241 += 7288 ??? 7017, qid50  \n",
    "50: 288 += 7576 ??? 7176, qid51  \n",
    "51: 172 += 7748 ??? 7305, qid52  \n",
    "52: 130 += 7878 ??? 7546, qid53  \n",
    "53: 165 += 8043 ??? 7834, qid54  \n",
    "54: 218 += 8216 ??? 8006, qid55   \n",
    "55: 114 += 8375 ??? 8136, qid56  \n",
    "56: 133 += 8508 ??? 8301, qid57  \n",
    "57: 74 += 8582 ??? 8519, qid58  \n",
    "58: 156 += 8738 ??? 8633, qid59  \n",
    "59: 223 += 8961 ??? 8766, qid60  \n",
    "   \n",
    "??? 8840, qid61  \n",
    "??? 8996, qid62  \n",
    "??? 9219, qid63  "
   ]
  },
  {
   "cell_type": "code",
   "execution_count": 6,
   "metadata": {},
   "outputs": [
    {
     "name": "stdout",
     "output_type": "stream",
     "text": [
      "[ 1  1  1 ... 63 63 63]\n"
     ]
    }
   ],
   "source": [
    "print(q_train) # [ 1  1  1 ... 63 63 63]"
   ]
  },
  {
   "cell_type": "markdown",
   "metadata": {},
   "source": [
    "# Define Ranker"
   ]
  },
  {
   "cell_type": "code",
   "execution_count": 7,
   "metadata": {},
   "outputs": [],
   "source": [
    "def lambda_cost(nn, y0):\n",
    "    return tf.reduce_mean(tf.log(1+tf.exp(nn))-nn)\n",
    "\n",
    "\n",
    "# Load directRanker, train, and test\n",
    "dr = drr.directRanker(\n",
    "    feature_activation=tf.nn.tanh,\n",
    "    ranking_activation=tf.nn.tanh,\n",
    "    # max_steps=10000,\n",
    "    # For debugging\n",
    "    #cost=lambda_cost,\n",
    "    max_steps=10000,\n",
    "    print_step=500,\n",
    "    start_batch_size=3,\n",
    "    end_batch_size=5,\n",
    "    start_qids=20,\n",
    "    end_qids=100,\n",
    "    feature_bias=True,\n",
    "    hidden_layers=[100, 50, 5]\n",
    ")"
   ]
  },
  {
   "cell_type": "markdown",
   "metadata": {},
   "source": [
    "# Fit"
   ]
  },
  {
   "cell_type": "code",
   "execution_count": 8,
   "metadata": {},
   "outputs": [
    {
     "name": "stderr",
     "output_type": "stream",
     "text": [
      "2023-03-05 01:11:56.809283: I tensorflow/compiler/mlir/mlir_graph_optimization_pass.cc:357] MLIR V1 optimization pass is not enabled\n",
      "2023-03-05 01:11:56.815591: W tensorflow/tsl/platform/profile_utils/cpu_utils.cc:128] Failed to get CPU frequency: 0 Hz\n"
     ]
    },
    {
     "name": "stdout",
     "output_type": "stream",
     "text": [
      "step: 0, value: 1.6615132093429565, samples: 3, queries: 20\n",
      "step: 500, value: 0.7046020030975342, samples: 3, queries: 21\n",
      "step: 1000, value: 0.7999551296234131, samples: 3, queries: 23\n",
      "step: 1500, value: 0.5364226698875427, samples: 3, queries: 25\n",
      "step: 2000, value: 0.4375348389148712, samples: 3, queries: 27\n",
      "step: 2500, value: 0.6053845286369324, samples: 3, queries: 29\n",
      "step: 3000, value: 0.3740880489349365, samples: 3, queries: 32\n",
      "step: 3500, value: 0.2799215018749237, samples: 3, queries: 35\n",
      "step: 4000, value: 0.3313451111316681, samples: 3, queries: 38\n",
      "step: 4500, value: 0.27198800444602966, samples: 3, queries: 41\n",
      "step: 5000, value: 0.20802217721939087, samples: 3, queries: 44\n",
      "step: 5500, value: 0.22796548902988434, samples: 3, queries: 48\n",
      "step: 6000, value: 0.14735272526741028, samples: 4, queries: 52\n",
      "step: 6500, value: 0.18075814843177795, samples: 4, queries: 56\n",
      "step: 7000, value: 0.12611159682273865, samples: 4, queries: 61\n",
      "step: 7500, value: 0.16948272287845612, samples: 4, queries: 66\n",
      "step: 8000, value: 0.13845276832580566, samples: 4, queries: 72\n",
      "step: 8500, value: 0.1796504706144333, samples: 4, queries: 78\n",
      "step: 9000, value: 0.1404004991054535, samples: 4, queries: 85\n",
      "step: 9500, value: 0.10997440665960312, samples: 4, queries: 92\n"
     ]
    }
   ],
   "source": [
    "dr.fit(x_train, y_train, ranking=True)"
   ]
  },
  {
   "cell_type": "markdown",
   "metadata": {},
   "source": [
    "# Evaluate"
   ]
  },
  {
   "cell_type": "code",
   "execution_count": 9,
   "metadata": {},
   "outputs": [
    {
     "name": "stdout",
     "output_type": "stream",
     "text": [
      "nDCG@5: 0.135 +- 0.1592\n",
      "MAP: 0.1692 +- 0.0992\n"
     ]
    },
    {
     "data": {
      "text/plain": [
       "0.1692289673912754"
      ]
     },
     "execution_count": 9,
     "metadata": {},
     "output_type": "execute_result"
    }
   ],
   "source": [
    "hlps.nDCGScorer_cls(dr, x_test, y_test, at=5)\n",
    "hlps.MAP_cls(dr, x_test, y_test)"
   ]
  },
  {
   "cell_type": "code",
   "execution_count": 10,
   "metadata": {},
   "outputs": [],
   "source": [
    "# OHSUMED:\n",
    "# nDCG@5: 0.2617 +- 0.3008\n",
    "# MAP: 0.2484 +- 0.2183\n",
    "\n",
    "# MQ2008\n",
    "# nDCG@5: 0.4944 +- 0.3143\n",
    "# MAP: 0.4663 +- 0.2943\n",
    "# nDCG@10: 0.5661 +- 0.279\n",
    "# MAP: 0.4663 +- 0.2943\n",
    "\n",
    "# MSLR-WEB10K\n",
    "# nDCG@10: 0.4109 +- 0.2404\n",
    "# MAP: 0.3452 +- 0.178"
   ]
  }
 ],
 "metadata": {
  "kernelspec": {
   "display_name": "Python 3",
   "language": "python",
   "name": "python3"
  },
  "language_info": {
   "codemirror_mode": {
    "name": "ipython",
    "version": 3
   },
   "file_extension": ".py",
   "mimetype": "text/x-python",
   "name": "python",
   "nbconvert_exporter": "python",
   "pygments_lexer": "ipython3",
   "version": "3.9.6"
  },
  "vscode": {
   "interpreter": {
    "hash": "31f2aee4e71d21fbe5cf8b01ff0e069b9275f58929596ceb00d14d90e3e16cd6"
   }
  }
 },
 "nbformat": 4,
 "nbformat_minor": 2
}
