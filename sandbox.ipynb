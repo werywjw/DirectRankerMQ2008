{
 "cells": [
  {
   "cell_type": "code",
   "execution_count": 3,
   "metadata": {},
   "outputs": [],
   "source": [
    "from __future__ import print_function\n",
    "\n",
    "import sys\n",
    "import numpy as np\n",
    "from sklearn.preprocessing import QuantileTransformer\n",
    "from sklearn.model_selection import train_test_split\n",
    "\n",
    "sys.path.append('..')\n",
    "import tensorflow as tf\n",
    "#from supplementary_code_direct_ranker.DirectRanker import directRanker\n",
    "#from supplementary_code_direct_ranker.helpers import readData, nDCGScorer_cls, MAP_cls\n",
    "import DirectRanker as drr\n",
    "import helpers as hlps"
   ]
  },
  {
   "cell_type": "markdown",
   "metadata": {},
   "source": [
    "# Read data"
   ]
  },
  {
   "cell_type": "code",
   "execution_count": 5,
   "metadata": {},
   "outputs": [
    {
     "ename": "ValueError",
     "evalue": "setting an array element with a sequence. The requested array has an inhomogeneous shape after 1 dimensions. The detected shape was (1814,) + inhomogeneous part.",
     "output_type": "error",
     "traceback": [
      "\u001b[0;31m---------------------------------------------------------------------------\u001b[0m",
      "\u001b[0;31mValueError\u001b[0m                                Traceback (most recent call last)",
      "Cell \u001b[0;32mIn[5], line 1\u001b[0m\n\u001b[0;32m----> 1\u001b[0m x_test, y_test, q_test \u001b[39m=\u001b[39m hlps\u001b[39m.\u001b[39;49mreadData(data_path\u001b[39m=\u001b[39;49m\u001b[39m\"\u001b[39;49m\u001b[39m/Users/wery/Desktop/MSLR-WEB10K/Fold1/test.txt\u001b[39;49m\u001b[39m\"\u001b[39;49m, binary\u001b[39m=\u001b[39;49m\u001b[39mTrue\u001b[39;49;00m, at\u001b[39m=\u001b[39;49m\u001b[39m10\u001b[39;49m, number_features\u001b[39m=\u001b[39;49m\u001b[39m136\u001b[39;49m, bin_cutoff\u001b[39m=\u001b[39;49m\u001b[39m1.5\u001b[39;49m, cut_zeros\u001b[39m=\u001b[39;49m\u001b[39mTrue\u001b[39;49;00m)\n\u001b[1;32m      2\u001b[0m x_train, y_train, q_train \u001b[39m=\u001b[39m hlps\u001b[39m.\u001b[39mreadData(data_path\u001b[39m=\u001b[39m\u001b[39m\"\u001b[39m\u001b[39m/Users/wery/Desktop/MSLR-WEB10K/Fold1/train.txt\u001b[39m\u001b[39m\"\u001b[39m, binary\u001b[39m=\u001b[39m\u001b[39mTrue\u001b[39;00m, at\u001b[39m=\u001b[39m\u001b[39m10\u001b[39m, number_features\u001b[39m=\u001b[39m\u001b[39m136\u001b[39m, bin_cutoff\u001b[39m=\u001b[39m\u001b[39m1.5\u001b[39m, cut_zeros\u001b[39m=\u001b[39m\u001b[39mTrue\u001b[39;00m)\n",
      "File \u001b[0;32m~/Desktop/DirectRankerMQ2008/helpers.py:65\u001b[0m, in \u001b[0;36mreadData\u001b[0;34m(data_path, debug_data, binary, preprocessing, at, number_features, bin_cutoff, cut_zeros)\u001b[0m\n\u001b[1;32m     62\u001b[0m     xt\u001b[39m.\u001b[39mappend(x[q \u001b[39m==\u001b[39m qid])\n\u001b[1;32m     63\u001b[0m     yt\u001b[39m.\u001b[39mappend(y[q \u001b[39m==\u001b[39m qid])\n\u001b[0;32m---> 65\u001b[0m \u001b[39mreturn\u001b[39;00m np\u001b[39m.\u001b[39;49marray(xt), np\u001b[39m.\u001b[39marray(yt), q\n",
      "\u001b[0;31mValueError\u001b[0m: setting an array element with a sequence. The requested array has an inhomogeneous shape after 1 dimensions. The detected shape was (1814,) + inhomogeneous part."
     ]
    }
   ],
   "source": [
    "x_test, y_test, q_test = hlps.readData(data_path=\"/Users/wery/Desktop/MSLR-WEB10K/Fold1/test.txt\", binary=True, at=10, number_features=136, bin_cutoff=1.5, cut_zeros=True)\n",
    "x_train, y_train, q_train = hlps.readData(data_path=\"/Users/wery/Desktop/MSLR-WEB10K/Fold1/train.txt\", binary=True, at=10, number_features=136, bin_cutoff=1.5, cut_zeros=True)"
   ]
  },
  {
   "cell_type": "markdown",
   "metadata": {},
   "source": [
    "# Define Ranker"
   ]
  },
  {
   "cell_type": "code",
   "execution_count": 21,
   "metadata": {},
   "outputs": [],
   "source": [
    "def lambda_cost(nn, y0):\n",
    "    return tf.reduce_mean(tf.log(1+tf.exp(nn))-nn)\n",
    "\n",
    "\n",
    "# Load directRanker, train, and test\n",
    "dr = drr.directRanker(\n",
    "    feature_activation=tf.nn.tanh,\n",
    "    ranking_activation=tf.nn.tanh,\n",
    "    # max_steps=10000,\n",
    "    # For debugging\n",
    "    #cost=lambda_cost,\n",
    "    max_steps=10000,\n",
    "    print_step=500,\n",
    "    start_batch_size=3,\n",
    "    end_batch_size=5,\n",
    "    start_qids=20,\n",
    "    end_qids=100,\n",
    "    feature_bias=True,\n",
    "    hidden_layers=[100, 50, 5]\n",
    ")"
   ]
  },
  {
   "cell_type": "markdown",
   "metadata": {},
   "source": [
    "# Fit"
   ]
  },
  {
   "cell_type": "code",
   "execution_count": 22,
   "metadata": {},
   "outputs": [
    {
     "name": "stdout",
     "output_type": "stream",
     "text": [
      "INFO:tensorflow:Scale of 0 disables regularizer.\n",
      "step: 0, value: 1.6413570642471313, samples: 3, queries: 20\n",
      "step: 500, value: 0.8485125303268433, samples: 3, queries: 21\n",
      "step: 1000, value: 0.8208735585212708, samples: 3, queries: 23\n",
      "step: 1500, value: 1.0172587633132935, samples: 3, queries: 25\n",
      "step: 2000, value: 0.8311473727226257, samples: 3, queries: 27\n",
      "step: 2500, value: 0.8592342734336853, samples: 3, queries: 29\n",
      "step: 3000, value: 0.8552649021148682, samples: 3, queries: 32\n",
      "step: 3500, value: 0.8993932604789734, samples: 3, queries: 35\n",
      "step: 4000, value: 0.9237943887710571, samples: 3, queries: 38\n",
      "step: 4500, value: 0.863290011882782, samples: 3, queries: 41\n",
      "step: 5000, value: 0.8462806940078735, samples: 3, queries: 44\n",
      "step: 5500, value: 0.841817319393158, samples: 3, queries: 48\n",
      "step: 6000, value: 0.9386919736862183, samples: 4, queries: 52\n",
      "step: 6500, value: 0.740372359752655, samples: 4, queries: 56\n",
      "step: 7000, value: 0.7669996023178101, samples: 4, queries: 61\n",
      "step: 7500, value: 0.8796824812889099, samples: 4, queries: 66\n",
      "step: 8000, value: 0.792700469493866, samples: 4, queries: 72\n",
      "step: 8500, value: 0.7683975100517273, samples: 4, queries: 78\n",
      "step: 9000, value: 0.8336156606674194, samples: 4, queries: 85\n",
      "step: 9500, value: 0.7652263045310974, samples: 4, queries: 92\n"
     ]
    }
   ],
   "source": [
    "dr.fit(x_train, y_train, ranking=True)"
   ]
  },
  {
   "cell_type": "markdown",
   "metadata": {},
   "source": [
    "# Evaluate"
   ]
  },
  {
   "cell_type": "code",
   "execution_count": 23,
   "metadata": {},
   "outputs": [
    {
     "name": "stdout",
     "output_type": "stream",
     "text": [
      "nDCG@10: 0.3914 +- 0.2399\n",
      "MAP: 0.3325 +- 0.1765\n"
     ]
    },
    {
     "data": {
      "text/plain": [
       "0.33248657967096584"
      ]
     },
     "execution_count": 23,
     "metadata": {},
     "output_type": "execute_result"
    }
   ],
   "source": [
    "nDCGScorer_cls(dr, x_test, y_test, at=10)\n",
    "MAP_cls(dr, x_test, y_test)"
   ]
  },
  {
   "cell_type": "code",
   "execution_count": null,
   "metadata": {},
   "outputs": [],
   "source": []
  }
 ],
 "metadata": {
  "kernelspec": {
   "display_name": "Python 3",
   "language": "python",
   "name": "python3"
  },
  "language_info": {
   "codemirror_mode": {
    "name": "ipython",
    "version": 3
   },
   "file_extension": ".py",
   "mimetype": "text/x-python",
   "name": "python",
   "nbconvert_exporter": "python",
   "pygments_lexer": "ipython3",
   "version": "3.9.6"
  },
  "vscode": {
   "interpreter": {
    "hash": "31f2aee4e71d21fbe5cf8b01ff0e069b9275f58929596ceb00d14d90e3e16cd6"
   }
  }
 },
 "nbformat": 4,
 "nbformat_minor": 2
}
