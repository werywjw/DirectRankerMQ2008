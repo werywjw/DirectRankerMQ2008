{
 "cells": [
  {
   "cell_type": "code",
   "execution_count": 1,
   "metadata": {},
   "outputs": [
    {
     "name": "stdout",
     "output_type": "stream",
     "text": [
      "WARNING:tensorflow:From /Users/wery/Library/Python/3.9/lib/python/site-packages/tensorflow/python/compat/v2_compat.py:107: disable_resource_variables (from tensorflow.python.ops.variable_scope) is deprecated and will be removed in a future version.\n",
      "Instructions for updating:\n",
      "non-resource variables are not supported in the long term\n"
     ]
    }
   ],
   "source": [
    "from __future__ import print_function\n",
    "\n",
    "import sys\n",
    "import numpy as np\n",
    "from sklearn.preprocessing import QuantileTransformer\n",
    "from sklearn.model_selection import train_test_split\n",
    "\n",
    "sys.path.append('..')\n",
    "import tensorflow as tf\n",
    "#from supplementary_code_direct_ranker.DirectRanker import directRanker\n",
    "#from supplementary_code_direct_ranker.helpers import readData, nDCGScorer_cls, MAP_cls\n",
    "import DirectRanker as drr\n",
    "import helpers as hlps"
   ]
  },
  {
   "cell_type": "markdown",
   "metadata": {},
   "source": [
    "# Read data"
   ]
  },
  {
   "cell_type": "code",
   "execution_count": 2,
   "metadata": {},
   "outputs": [],
   "source": [
    "x_test, y_test, q_test = hlps.readData(data_path=\"/Users/wery/Desktop/MSLR-WEB10K/Fold1/test.txt\", binary=True, at=10, number_features=136, bin_cutoff=1.5, cut_zeros=True)\n",
    "x_train, y_train, q_train = hlps.readData(data_path=\"/Users/wery/Desktop/MSLR-WEB10K/Fold1/train.txt\", binary=True, at=10, number_features=136, bin_cutoff=1.5, cut_zeros=True)"
   ]
  },
  {
   "cell_type": "markdown",
   "metadata": {},
   "source": [
    "# Define Ranker"
   ]
  },
  {
   "cell_type": "code",
   "execution_count": 3,
   "metadata": {},
   "outputs": [],
   "source": [
    "def lambda_cost(nn, y0):\n",
    "    return tf.reduce_mean(tf.log(1+tf.exp(nn))-nn)\n",
    "\n",
    "\n",
    "# Load directRanker, train, and test\n",
    "dr = drr.directRanker(\n",
    "    feature_activation=tf.nn.tanh,\n",
    "    ranking_activation=tf.nn.tanh,\n",
    "    # max_steps=10000,\n",
    "    # For debugging\n",
    "    #cost=lambda_cost,\n",
    "    max_steps=10000,\n",
    "    print_step=500,\n",
    "    start_batch_size=3,\n",
    "    end_batch_size=5,\n",
    "    start_qids=20,\n",
    "    end_qids=100,\n",
    "    feature_bias=True,\n",
    "    hidden_layers=[100, 50, 5]\n",
    ")"
   ]
  },
  {
   "cell_type": "markdown",
   "metadata": {},
   "source": [
    "# Fit"
   ]
  },
  {
   "cell_type": "code",
   "execution_count": 4,
   "metadata": {},
   "outputs": [
    {
     "name": "stderr",
     "output_type": "stream",
     "text": [
      "/Users/wery/Desktop/DirectRankerMQ2008/DirectRanker.py:207: UserWarning: `tf.layers.dropout` is deprecated and will be removed in a future version. Please use `tf.keras.layers.Dropout` instead.\n",
      "  in0 = tf.layers.dropout(inputs=self.x0,\n",
      "/Users/wery/Desktop/DirectRankerMQ2008/DirectRanker.py:212: UserWarning: `tf.layers.dropout` is deprecated and will be removed in a future version. Please use `tf.keras.layers.Dropout` instead.\n",
      "  in1 = tf.layers.dropout(inputs=self.x1,\n",
      "/Users/wery/Desktop/DirectRankerMQ2008/DirectRanker.py:218: UserWarning: `tf.layers.dense` is deprecated and will be removed in a future version. Please use `tf.keras.layers.Dense` instead.\n",
      "  nn0 = tf.layers.dense(\n",
      "/Users/wery/Desktop/DirectRankerMQ2008/DirectRanker.py:230: UserWarning: `tf.layers.dense` is deprecated and will be removed in a future version. Please use `tf.keras.layers.Dense` instead.\n",
      "  nn1 = tf.layers.dense(\n",
      "/Users/wery/Desktop/DirectRankerMQ2008/DirectRanker.py:242: UserWarning: `tf.layers.dropout` is deprecated and will be removed in a future version. Please use `tf.keras.layers.Dropout` instead.\n",
      "  nn0 = tf.layers.dropout(inputs=nn0,\n",
      "/Users/wery/Desktop/DirectRankerMQ2008/DirectRanker.py:246: UserWarning: `tf.layers.dropout` is deprecated and will be removed in a future version. Please use `tf.keras.layers.Dropout` instead.\n",
      "  nn1 = tf.layers.dropout(inputs=nn1,\n",
      "/Users/wery/Desktop/DirectRankerMQ2008/DirectRanker.py:252: UserWarning: `tf.layers.dense` is deprecated and will be removed in a future version. Please use `tf.keras.layers.Dense` instead.\n",
      "  nn0 = tf.layers.dense(\n",
      "/Users/wery/Desktop/DirectRankerMQ2008/DirectRanker.py:261: UserWarning: `tf.layers.dense` is deprecated and will be removed in a future version. Please use `tf.keras.layers.Dense` instead.\n",
      "  nn1 = tf.layers.dense(\n",
      "/Users/wery/Desktop/DirectRankerMQ2008/DirectRanker.py:273: UserWarning: `tf.layers.dropout` is deprecated and will be removed in a future version. Please use `tf.keras.layers.Dropout` instead.\n",
      "  nn0 = tf.layers.dropout(inputs=nn0,\n",
      "/Users/wery/Desktop/DirectRankerMQ2008/DirectRanker.py:277: UserWarning: `tf.layers.dropout` is deprecated and will be removed in a future version. Please use `tf.keras.layers.Dropout` instead.\n",
      "  nn1 = tf.layers.dropout(inputs=nn1,\n",
      "/Users/wery/Desktop/DirectRankerMQ2008/DirectRanker.py:285: UserWarning: `tf.layers.dense` is deprecated and will be removed in a future version. Please use `tf.keras.layers.Dense` instead.\n",
      "  self.nn = tf.layers.dense(\n",
      "/Users/wery/Desktop/DirectRankerMQ2008/DirectRanker.py:295: UserWarning: `tf.layers.dense` is deprecated and will be removed in a future version. Please use `tf.keras.layers.Dense` instead.\n",
      "  self.nn_cls = tf.layers.dense(\n",
      "2023-01-23 11:04:53.198805: I tensorflow/compiler/mlir/mlir_graph_optimization_pass.cc:357] MLIR V1 optimization pass is not enabled\n",
      "2023-01-23 11:04:53.204697: W tensorflow/tsl/platform/profile_utils/cpu_utils.cc:128] Failed to get CPU frequency: 0 Hz\n"
     ]
    },
    {
     "name": "stdout",
     "output_type": "stream",
     "text": [
      "step: 0, value: 0.9998838901519775, samples: 3, queries: 20\n",
      "step: 500, value: 0.8950247764587402, samples: 3, queries: 21\n",
      "step: 1000, value: 0.8235525488853455, samples: 3, queries: 23\n",
      "step: 1500, value: 0.8441898822784424, samples: 3, queries: 25\n",
      "step: 2000, value: 0.8656865954399109, samples: 3, queries: 27\n",
      "step: 2500, value: 0.8921211361885071, samples: 3, queries: 29\n",
      "step: 3000, value: 0.8498957753181458, samples: 3, queries: 32\n",
      "step: 3500, value: 0.770397961139679, samples: 3, queries: 35\n",
      "step: 4000, value: 0.7753650546073914, samples: 3, queries: 38\n",
      "step: 4500, value: 0.7787533402442932, samples: 3, queries: 41\n",
      "step: 5000, value: 0.8912742733955383, samples: 3, queries: 44\n",
      "step: 5500, value: 0.9179871678352356, samples: 3, queries: 48\n",
      "step: 6000, value: 0.7852871417999268, samples: 4, queries: 52\n",
      "step: 6500, value: 0.8519539833068848, samples: 4, queries: 56\n",
      "step: 7000, value: 0.8347021341323853, samples: 4, queries: 61\n",
      "step: 7500, value: 0.8470625281333923, samples: 4, queries: 66\n",
      "step: 8000, value: 0.7434679865837097, samples: 4, queries: 72\n",
      "step: 8500, value: 0.7827704548835754, samples: 4, queries: 78\n",
      "step: 9000, value: 0.728692889213562, samples: 4, queries: 85\n",
      "step: 9500, value: 0.7792172431945801, samples: 4, queries: 92\n"
     ]
    }
   ],
   "source": [
    "dr.fit(x_train, y_train, ranking=True)"
   ]
  },
  {
   "cell_type": "markdown",
   "metadata": {},
   "source": [
    "# Evaluate"
   ]
  },
  {
   "cell_type": "code",
   "execution_count": 5,
   "metadata": {},
   "outputs": [
    {
     "name": "stdout",
     "output_type": "stream",
     "text": [
      "nDCG@10: 0.4113 +- 0.2414\n",
      "MAP: 0.3433 +- 0.1773\n"
     ]
    },
    {
     "data": {
      "text/plain": [
       "0.3432874043805785"
      ]
     },
     "execution_count": 5,
     "metadata": {},
     "output_type": "execute_result"
    }
   ],
   "source": [
    "hlps.nDCGScorer_cls(dr, x_test, y_test, at=10)\n",
    "hlps.MAP_cls(dr, x_test, y_test)"
   ]
  },
  {
   "cell_type": "code",
   "execution_count": null,
   "metadata": {},
   "outputs": [],
   "source": []
  }
 ],
 "metadata": {
  "kernelspec": {
   "display_name": "Python 3",
   "language": "python",
   "name": "python3"
  },
  "language_info": {
   "codemirror_mode": {
    "name": "ipython",
    "version": 3
   },
   "file_extension": ".py",
   "mimetype": "text/x-python",
   "name": "python",
   "nbconvert_exporter": "python",
   "pygments_lexer": "ipython3",
   "version": "3.9.6"
  },
  "vscode": {
   "interpreter": {
    "hash": "31f2aee4e71d21fbe5cf8b01ff0e069b9275f58929596ceb00d14d90e3e16cd6"
   }
  }
 },
 "nbformat": 4,
 "nbformat_minor": 2
}
